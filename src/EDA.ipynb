{
 "cells": [
  {
   "cell_type": "code",
   "execution_count": 1,
   "metadata": {},
   "outputs": [],
   "source": [
    "from llm_call.call_openai import OpenAIGenerator\n",
    "\n"
   ]
  },
  {
   "cell_type": "code",
   "execution_count": 2,
   "metadata": {},
   "outputs": [
    {
     "data": {
      "text/plain": [
       "True"
      ]
     },
     "execution_count": 2,
     "metadata": {},
     "output_type": "execute_result"
    }
   ],
   "source": [
    "from dotenv import load_dotenv\n",
    "load_dotenv()"
   ]
  },
  {
   "cell_type": "code",
   "execution_count": 3,
   "metadata": {},
   "outputs": [],
   "source": [
    "generator = OpenAIGenerator()\n"
   ]
  },
  {
   "cell_type": "code",
   "execution_count": 4,
   "metadata": {},
   "outputs": [
    {
     "data": {
      "text/plain": [
       "'The capital of France is Paris.'"
      ]
     },
     "execution_count": 4,
     "metadata": {},
     "output_type": "execute_result"
    }
   ],
   "source": [
    "query = \"What is the capital of France?\"\n",
    "generator.call_openai(messages=[{\"role\": \"user\", \"content\": query}])"
   ]
  },
  {
   "cell_type": "markdown",
   "metadata": {},
   "source": [
    "# Structured output"
   ]
  },
  {
   "cell_type": "code",
   "execution_count": 1,
   "metadata": {},
   "outputs": [
    {
     "data": {
      "text/plain": [
       "True"
      ]
     },
     "execution_count": 1,
     "metadata": {},
     "output_type": "execute_result"
    }
   ],
   "source": [
    "from dotenv import load_dotenv\n",
    "load_dotenv()"
   ]
  },
  {
   "cell_type": "code",
   "execution_count": 2,
   "metadata": {},
   "outputs": [],
   "source": [
    "from llm_call.structured_output import MathReasoning"
   ]
  },
  {
   "cell_type": "code",
   "execution_count": 3,
   "metadata": {},
   "outputs": [],
   "source": [
    "from llm_call.call_openai import OpenAIGenerator\n",
    "llm =  OpenAIGenerator()\n",
    "messages=[\n",
    "        {\"role\": \"system\", \"content\": \"You are a helpful math tutor. Guide the user through the solution step by step.\"},\n",
    "        {\"role\": \"user\", \"content\": \"how can I solve 8x + 7 = -23\"}\n",
    "    ]\n",
    "response = llm.call_openai(messages=messages, response_format=MathReasoning)"
   ]
  },
  {
   "cell_type": "code",
   "execution_count": 6,
   "metadata": {},
   "outputs": [
    {
     "data": {
      "text/plain": [
       "[Step(explanation='To isolate the term with x, we first need to get rid of the constant on the left side of the equation. We do this by subtracting 7 from both sides.', output='8x + 7 - 7 = -23 - 7'),\n",
       " Step(explanation='Now, simplify both sides of the equation. On the left side, the +7 and -7 cancel each other out. On the right side, -23 - 7 equals -30.', output='8x = -30'),\n",
       " Step(explanation='Next, we need to solve for x by isolating it. We do this by dividing both sides of the equation by 8.', output='x = -30 / 8'),\n",
       " Step(explanation='Now we simplify the fraction. -30 divided by 8 can be simplified to -15/4 or -3.75 if converted to a decimal.', output='x = -15/4 or x = -3.75')]"
      ]
     },
     "execution_count": 6,
     "metadata": {},
     "output_type": "execute_result"
    }
   ],
   "source": [
    "response.steps"
   ]
  },
  {
   "cell_type": "code",
   "execution_count": 1,
   "metadata": {},
   "outputs": [],
   "source": [
    "from dotenv import load_dotenv\n",
    "from prompts.INS_IN_PUT_generate import PARAPHRASE\n",
    "load_dotenv()\n",
    "\n",
    "from llm_call.call_openai import OpenAIGenerator\n",
    "llm =  OpenAIGenerator(model=\"gpt-4o-mini\")\n"
   ]
  },
  {
   "cell_type": "code",
   "execution_count": 2,
   "metadata": {},
   "outputs": [],
   "source": [
    "num_samples = 10\n",
    "query = \"Xây dựng trận địa tiến công lớn là một công trình rất gian khổ, lại phải thường xuyên đánh lui những đợt phản công của địch và cũng là loại hình mới đối với quân đội ta. Khắc phục mọi khó khăn gian khổ và hiểm nguy, quân đội ta đã triển khai một đợt thi đua đào công sự rầm rộ xung quanh Điện Biên Phủ. Trận địa tiến công và bao vây của quân ta được củng cố và phát triển, tạo nên mối uy hiếp lớn đối với tinh thần và thế bố trí của địch\"\n",
    "prompt = PARAPHRASE.format(num=num_samples, original_query=query)"
   ]
  },
  {
   "cell_type": "code",
   "execution_count": 3,
   "metadata": {},
   "outputs": [],
   "source": [
    "messages=[\n",
    "        {\"role\": \"user\", \"content\": prompt},\n",
    "    ]\n",
    "response = llm.call_openai(messages=messages)"
   ]
  },
  {
   "cell_type": "code",
   "execution_count": 4,
   "metadata": {},
   "outputs": [
    {
     "name": "stdout",
     "output_type": "stream",
     "text": [
      "Xây dựng trận địa tiến công lớn là một công trình rất gian khổ, lại phải thường xuyên đánh lui những đợt phản công của địch và cũng là loại hình mới đối với quân đội ta. Khắc phục mọi khó khăn gian khổ và hiểm nguy, quân đội ta đã triển khai một đợt thi đua đào công sự rầm rộ xung quanh Điện Biên Phủ. Trận địa tiến công và bao vây của quân ta được củng cố và phát triển, tạo nên mối uy hiếp lớn đối với tinh thần và thế bố trí của địch\n"
     ]
    }
   ],
   "source": [
    "print(query)"
   ]
  },
  {
   "cell_type": "code",
   "execution_count": 5,
   "metadata": {},
   "outputs": [
    {
     "name": "stdout",
     "output_type": "stream",
     "text": [
      "[\n",
      "  \"Việc xây dựng một trận địa tiến công lớn là một công trình vô cùng khó khăn, đòi hỏi phải thường xuyên đánh bại những đợt phản công từ phía địch, và nó cũng là một loại hình mới cho quân đội chúng ta.\",\n",
      "  \"Quân đội ta đã khắc phục mọi khó khăn, gian khổ và hiểm nguy để triển khai một đợt thi đua rầm rộ nhằm đào công sự xung quanh Điện Biên Phủ.\",\n",
      "  \"Trận địa tiến công và bao vây của quân ta đã được củng cố và phát triển mạnh mẽ, gây ra mối đe dọa lớn cho tinh thần cũng như thế bố trí của địch.\",\n",
      "  \"Xây dựng trận địa tiến công lớn không chỉ là một công trình đầy gian khổ mà còn là việc phải liên tục đối phó với các đợt phản công của kẻ thù.\",\n",
      "  \"Chúng ta đã vượt qua mọi thử thách khó khăn và hiểm nguy để thực hiện một chiến dịch thi đua khai thác công sự quanh khu vực Điện Biên Phủ.\",\n",
      "  \"Mối uy hiếp lớn đối với tinh thần và bố trí của địch đã được tạo ra nhờ vào việc củng cố và phát triển trận địa tiến công của quân ta.\",\n",
      "  \"Công trình xây dựng trận địa tiến công lớn này là một thử thách lớn lao, yêu cầu quân đội ta phải luôn sẵn sàng đánh lui các cuộc phản công của đối phương.\",\n",
      "  \"Trận địa bao vây và tiến công của chúng ta đã được mở rộng và củng cố, tạo ra áp lực lớn lên tinh thần của địch.\",\n",
      "  \"Việc hoàn thiện trận địa tiến công lớn không chỉ đòi hỏi nhiều công sức mà còn cần phải liên tục bảo vệ trước các đợt phản công từ địch.\",\n",
      "  \"Quân đội ta đã tổ chức một phong trào thi đua mạnh mẽ để xây dựng công sự quanh Điện Biên Phủ, giúp củng cố trận địa và gây sức ép lớn đối với địch.\"\n",
      "]\n"
     ]
    }
   ],
   "source": [
    "print(response)"
   ]
  },
  {
   "cell_type": "code",
   "execution_count": null,
   "metadata": {},
   "outputs": [],
   "source": []
  }
 ],
 "metadata": {
  "kernelspec": {
   "display_name": "hdchung",
   "language": "python",
   "name": "python3"
  },
  "language_info": {
   "codemirror_mode": {
    "name": "ipython",
    "version": 3
   },
   "file_extension": ".py",
   "mimetype": "text/x-python",
   "name": "python",
   "nbconvert_exporter": "python",
   "pygments_lexer": "ipython3",
   "version": "3.10.15"
  }
 },
 "nbformat": 4,
 "nbformat_minor": 2
}
